{
 "cells": [
  {
   "cell_type": "code",
   "execution_count": 1,
   "id": "15c0f324",
   "metadata": {},
   "outputs": [
    {
     "data": {
      "text/html": [
       "<div>\n",
       "<style scoped>\n",
       "    .dataframe tbody tr th:only-of-type {\n",
       "        vertical-align: middle;\n",
       "    }\n",
       "\n",
       "    .dataframe tbody tr th {\n",
       "        vertical-align: top;\n",
       "    }\n",
       "\n",
       "    .dataframe thead th {\n",
       "        text-align: right;\n",
       "    }\n",
       "</style>\n",
       "<table border=\"1\" class=\"dataframe\">\n",
       "  <thead>\n",
       "    <tr style=\"text-align: right;\">\n",
       "      <th></th>\n",
       "      <th>Issue_id</th>\n",
       "      <th>Priority</th>\n",
       "      <th>Title</th>\n",
       "      <th>Description</th>\n",
       "      <th>Component</th>\n",
       "    </tr>\n",
       "  </thead>\n",
       "  <tbody>\n",
       "    <tr>\n",
       "      <th>0</th>\n",
       "      <td>1</td>\n",
       "      <td>P3</td>\n",
       "      <td>Usability issue with external editors (1GE6IRL)</td>\n",
       "      <td>- Setup a project that contains a *.gif resour...</td>\n",
       "      <td>Team</td>\n",
       "    </tr>\n",
       "    <tr>\n",
       "      <th>1</th>\n",
       "      <td>13</td>\n",
       "      <td>P3</td>\n",
       "      <td>CC Discussion: local versioning (1GAT3PL)</td>\n",
       "      <td>Would it make sense to have a (the?) projects ...</td>\n",
       "      <td>Team</td>\n",
       "    </tr>\n",
       "    <tr>\n",
       "      <th>2</th>\n",
       "      <td>12</td>\n",
       "      <td>P3</td>\n",
       "      <td>Manage/unmanage support and policies (1GALAEG)</td>\n",
       "      <td>Currently every new resource added to a shared...</td>\n",
       "      <td>Team</td>\n",
       "    </tr>\n",
       "    <tr>\n",
       "      <th>3</th>\n",
       "      <td>11</td>\n",
       "      <td>P3</td>\n",
       "      <td>API: ISharingManager::load mapping vcm project...</td>\n",
       "      <td>Jean-Michel (08/02/2001 1:38:48 PM); ; The ISh...</td>\n",
       "      <td>Team</td>\n",
       "    </tr>\n",
       "    <tr>\n",
       "      <th>4</th>\n",
       "      <td>10</td>\n",
       "      <td>P3</td>\n",
       "      <td>API - VCM event notification (1G8G6RR)</td>\n",
       "      <td>There seems to be a need for a VCM Event notif...</td>\n",
       "      <td>Team</td>\n",
       "    </tr>\n",
       "  </tbody>\n",
       "</table>\n",
       "</div>"
      ],
      "text/plain": [
       "   Issue_id Priority                                              Title  \\\n",
       "0         1       P3    Usability issue with external editors (1GE6IRL)   \n",
       "1        13       P3          CC Discussion: local versioning (1GAT3PL)   \n",
       "2        12       P3     Manage/unmanage support and policies (1GALAEG)   \n",
       "3        11       P3  API: ISharingManager::load mapping vcm project...   \n",
       "4        10       P3             API - VCM event notification (1G8G6RR)   \n",
       "\n",
       "                                         Description Component  \n",
       "0  - Setup a project that contains a *.gif resour...      Team  \n",
       "1  Would it make sense to have a (the?) projects ...      Team  \n",
       "2  Currently every new resource added to a shared...      Team  \n",
       "3  Jean-Michel (08/02/2001 1:38:48 PM); ; The ISh...      Team  \n",
       "4  There seems to be a need for a VCM Event notif...      Team  "
      ]
     },
     "execution_count": 1,
     "metadata": {},
     "output_type": "execute_result"
    }
   ],
   "source": [
    "import pandas as pd\n",
    "to_train = pd.read_csv('/home/rpierson/PiersonREU/extracted/train_dataset.csv')\n",
    "priority_levels = pd.read_csv('/home/rpierson/PiersonREU/extracted/train_priority.csv')\n",
    "to_train.head()"
   ]
  },
  {
   "cell_type": "code",
<<<<<<< HEAD
   "execution_count": null,
   "id": "efd0dc83",
   "metadata": {},
   "outputs": [],
   "source": []
  },
  {
   "cell_type": "code",
   "execution_count": 2,
=======
   "execution_count": 2,
   "id": "efd0dc83",
   "metadata": {},
   "outputs": [
    {
     "data": {
      "text/html": [
       "<div>\n",
       "<style scoped>\n",
       "    .dataframe tbody tr th:only-of-type {\n",
       "        vertical-align: middle;\n",
       "    }\n",
       "\n",
       "    .dataframe tbody tr th {\n",
       "        vertical-align: top;\n",
       "    }\n",
       "\n",
       "    .dataframe thead th {\n",
       "        text-align: right;\n",
       "    }\n",
       "</style>\n",
       "<table border=\"1\" class=\"dataframe\">\n",
       "  <thead>\n",
       "    <tr style=\"text-align: right;\">\n",
       "      <th></th>\n",
       "      <th>Priority</th>\n",
       "    </tr>\n",
       "  </thead>\n",
       "  <tbody>\n",
       "    <tr>\n",
       "      <th>0</th>\n",
       "      <td>P3</td>\n",
       "    </tr>\n",
       "    <tr>\n",
       "      <th>1</th>\n",
       "      <td>P3</td>\n",
       "    </tr>\n",
       "    <tr>\n",
       "      <th>2</th>\n",
       "      <td>P3</td>\n",
       "    </tr>\n",
       "    <tr>\n",
       "      <th>3</th>\n",
       "      <td>P3</td>\n",
       "    </tr>\n",
       "    <tr>\n",
       "      <th>4</th>\n",
       "      <td>P3</td>\n",
       "    </tr>\n",
       "    <tr>\n",
       "      <th>...</th>\n",
       "      <td>...</td>\n",
       "    </tr>\n",
       "    <tr>\n",
       "      <th>68119</th>\n",
       "      <td>P3</td>\n",
       "    </tr>\n",
       "    <tr>\n",
       "      <th>68120</th>\n",
       "      <td>P3</td>\n",
       "    </tr>\n",
       "    <tr>\n",
       "      <th>68121</th>\n",
       "      <td>P3</td>\n",
       "    </tr>\n",
       "    <tr>\n",
       "      <th>68122</th>\n",
       "      <td>P3</td>\n",
       "    </tr>\n",
       "    <tr>\n",
       "      <th>68123</th>\n",
       "      <td>P3</td>\n",
       "    </tr>\n",
       "  </tbody>\n",
       "</table>\n",
       "<p>68124 rows × 1 columns</p>\n",
       "</div>"
      ],
      "text/plain": [
       "      Priority\n",
       "0           P3\n",
       "1           P3\n",
       "2           P3\n",
       "3           P3\n",
       "4           P3\n",
       "...        ...\n",
       "68119       P3\n",
       "68120       P3\n",
       "68121       P3\n",
       "68122       P3\n",
       "68123       P3\n",
       "\n",
       "[68124 rows x 1 columns]"
      ]
     },
     "execution_count": 2,
     "metadata": {},
     "output_type": "execute_result"
    }
   ],
   "source": [
    "priorit"
   ]
  },
  {
   "cell_type": "code",
   "execution_count": 3,
>>>>>>> 11d0d8cdaab221c85611bfcb85c4de2db02e18c8
   "id": "0ee9c38f",
   "metadata": {},
   "outputs": [
    {
     "name": "stderr",
     "output_type": "stream",
     "text": [
      "[nltk_data] Downloading package punkt to /home/rpierson/nltk_data...\n",
      "[nltk_data]   Package punkt is already up-to-date!\n",
      "[nltk_data] Downloading package stopwords to\n",
      "[nltk_data]     /home/rpierson/nltk_data...\n",
      "[nltk_data]   Package stopwords is already up-to-date!\n",
      "[nltk_data] Downloading package wordnet to /home/rpierson/nltk_data...\n",
      "[nltk_data]   Package wordnet is already up-to-date!\n",
      "[nltk_data] Downloading package averaged_perceptron_tagger to\n",
      "[nltk_data]     /home/rpierson/nltk_data...\n",
      "[nltk_data]   Package averaged_perceptron_tagger is already up-to-\n",
      "[nltk_data]       date!\n"
     ]
    }
   ],
   "source": [
    "import nltk #natural language toolkit, used for all preprocessing\n",
    "nltk.download('punkt') #Tokenization & Lemmatization & Word Stop\n",
    "nltk.download('stopwords') #Word Stop\n",
    "nltk.download('wordnet') #Lemmatization\n",
    "nltk.download('averaged_perceptron_tagger') #Lemmatization\n",
    "from nltk.corpus import stopwords #Word Stop\n",
    "from nltk.tokenize import word_tokenize #Tokenization & Word Stop\n",
    "import string #Stop WOrd\n",
    "from nltk.corpus import wordnet #Lemmatization\n",
    "from nltk.stem import WordNetLemmatizer #Lemmatization"
   ]
  },
  {
   "cell_type": "code",
<<<<<<< HEAD
   "execution_count": 3,
=======
   "execution_count": 4,
>>>>>>> 11d0d8cdaab221c85611bfcb85c4de2db02e18c8
   "id": "f60eaf60",
   "metadata": {},
   "outputs": [],
   "source": [
    "to_train['Combined_Text'] = to_train['Title'] + ' ' + to_train['Description'] + ' ' + to_train['Component']"
   ]
  },
  {
   "cell_type": "code",
<<<<<<< HEAD
   "execution_count": 4,
=======
   "execution_count": 5,
>>>>>>> 11d0d8cdaab221c85611bfcb85c4de2db02e18c8
   "id": "36bd86a0",
   "metadata": {},
   "outputs": [],
   "source": [
    "stop_words = set(stopwords.words('english'))\n",
    "punctuation = set(string.punctuation + '``'+ '`'+ ''+ ',' + '/')"
   ]
  },
  {
   "cell_type": "code",
<<<<<<< HEAD
   "execution_count": 5,
=======
   "execution_count": 6,
>>>>>>> 11d0d8cdaab221c85611bfcb85c4de2db02e18c8
   "id": "dc40b3d1",
   "metadata": {},
   "outputs": [],
   "source": [
    "to_train['Combined_Text'] = to_train['Combined_Text'].astype(str).apply(word_tokenize)"
   ]
  },
  {
   "cell_type": "code",
<<<<<<< HEAD
   "execution_count": 6,
=======
   "execution_count": 7,
>>>>>>> 11d0d8cdaab221c85611bfcb85c4de2db02e18c8
   "id": "e4b7cc69",
   "metadata": {},
   "outputs": [
    {
     "data": {
      "text/plain": [
       "0    [Usability, issue, with, external, editors, (,...\n",
       "1    [CC, Discussion, :, local, versioning, (, 1GAT...\n",
       "2    [Manage/unmanage, support, and, policies, (, 1...\n",
       "3    [API, :, ISharingManager, :, :load, mapping, v...\n",
       "4    [API, -, VCM, event, notification, (, 1G8G6RR,...\n",
       "Name: Combined_Text, dtype: object"
      ]
     },
<<<<<<< HEAD
     "execution_count": 6,
=======
     "execution_count": 7,
>>>>>>> 11d0d8cdaab221c85611bfcb85c4de2db02e18c8
     "metadata": {},
     "output_type": "execute_result"
    }
   ],
   "source": [
    "to_train['Combined_Text'].head()"
   ]
  },
  {
   "cell_type": "code",
<<<<<<< HEAD
   "execution_count": 7,
=======
   "execution_count": 8,
>>>>>>> 11d0d8cdaab221c85611bfcb85c4de2db02e18c8
   "id": "9e3c672b",
   "metadata": {},
   "outputs": [],
   "source": [
    "to_train['Combined_Text'] = [[word for word in tokens if word.lower() not in stop_words and word not in punctuation] for tokens in to_train['Combined_Text']]\n"
   ]
  },
  {
   "cell_type": "code",
<<<<<<< HEAD
   "execution_count": 8,
=======
   "execution_count": 9,
>>>>>>> 11d0d8cdaab221c85611bfcb85c4de2db02e18c8
   "id": "89175bff",
   "metadata": {},
   "outputs": [
    {
     "data": {
      "text/plain": [
       "0    [Usability, issue, external, editors, 1GE6IRL,...\n",
       "1    [CC, Discussion, local, versioning, 1GAT3PL, W...\n",
       "2    [Manage/unmanage, support, policies, 1GALAEG, ...\n",
       "3    [API, ISharingManager, :load, mapping, vcm, pr...\n",
       "4    [API, VCM, event, notification, 1G8G6RR, seems...\n",
       "Name: Combined_Text, dtype: object"
      ]
     },
<<<<<<< HEAD
     "execution_count": 8,
=======
     "execution_count": 9,
>>>>>>> 11d0d8cdaab221c85611bfcb85c4de2db02e18c8
     "metadata": {},
     "output_type": "execute_result"
    }
   ],
   "source": [
    "to_train['Combined_Text'].head()"
   ]
  },
  {
   "cell_type": "code",
   "execution_count": null,
   "id": "84b2cb0c",
   "metadata": {},
   "outputs": [],
   "source": []
  },
  {
   "cell_type": "code",
<<<<<<< HEAD
   "execution_count": 9,
=======
   "execution_count": 10,
>>>>>>> 11d0d8cdaab221c85611bfcb85c4de2db02e18c8
   "id": "c972dc51",
   "metadata": {},
   "outputs": [],
   "source": [
    "import os\n",
    "train_file = os.path.join('/home/rpierson/PiersonREU/extracted', 'train_dataset.csv')\n",
    "\n",
    "to_train.to_csv(train_file, index = False)"
   ]
  },
  {
   "cell_type": "code",
<<<<<<< HEAD
   "execution_count": 10,
=======
   "execution_count": 11,
>>>>>>> 11d0d8cdaab221c85611bfcb85c4de2db02e18c8
   "id": "945f4c0f",
   "metadata": {},
   "outputs": [
    {
     "data": {
      "text/html": [
       "<div>\n",
       "<style scoped>\n",
       "    .dataframe tbody tr th:only-of-type {\n",
       "        vertical-align: middle;\n",
       "    }\n",
       "\n",
       "    .dataframe tbody tr th {\n",
       "        vertical-align: top;\n",
       "    }\n",
       "\n",
       "    .dataframe thead th {\n",
       "        text-align: right;\n",
       "    }\n",
       "</style>\n",
       "<table border=\"1\" class=\"dataframe\">\n",
       "  <thead>\n",
       "    <tr style=\"text-align: right;\">\n",
       "      <th></th>\n",
       "      <th>Issue_id</th>\n",
       "      <th>Priority</th>\n",
       "      <th>Title</th>\n",
       "      <th>Description</th>\n",
       "      <th>Component</th>\n",
       "      <th>Combined_Text</th>\n",
       "    </tr>\n",
       "  </thead>\n",
       "  <tbody>\n",
       "    <tr>\n",
       "      <th>0</th>\n",
       "      <td>1</td>\n",
       "      <td>P3</td>\n",
       "      <td>Usability issue with external editors (1GE6IRL)</td>\n",
       "      <td>- Setup a project that contains a *.gif resour...</td>\n",
       "      <td>Team</td>\n",
       "      <td>[Usability, issue, external, editors, 1GE6IRL,...</td>\n",
       "    </tr>\n",
       "    <tr>\n",
       "      <th>1</th>\n",
       "      <td>13</td>\n",
       "      <td>P3</td>\n",
       "      <td>CC Discussion: local versioning (1GAT3PL)</td>\n",
       "      <td>Would it make sense to have a (the?) projects ...</td>\n",
       "      <td>Team</td>\n",
       "      <td>[CC, Discussion, local, versioning, 1GAT3PL, W...</td>\n",
       "    </tr>\n",
       "    <tr>\n",
       "      <th>2</th>\n",
       "      <td>12</td>\n",
       "      <td>P3</td>\n",
       "      <td>Manage/unmanage support and policies (1GALAEG)</td>\n",
       "      <td>Currently every new resource added to a shared...</td>\n",
       "      <td>Team</td>\n",
       "      <td>[Manage/unmanage, support, policies, 1GALAEG, ...</td>\n",
       "    </tr>\n",
       "    <tr>\n",
       "      <th>3</th>\n",
       "      <td>11</td>\n",
       "      <td>P3</td>\n",
       "      <td>API: ISharingManager::load mapping vcm project...</td>\n",
       "      <td>Jean-Michel (08/02/2001 1:38:48 PM); ; The ISh...</td>\n",
       "      <td>Team</td>\n",
       "      <td>[API, ISharingManager, :load, mapping, vcm, pr...</td>\n",
       "    </tr>\n",
       "    <tr>\n",
       "      <th>4</th>\n",
       "      <td>10</td>\n",
       "      <td>P3</td>\n",
       "      <td>API - VCM event notification (1G8G6RR)</td>\n",
       "      <td>There seems to be a need for a VCM Event notif...</td>\n",
       "      <td>Team</td>\n",
       "      <td>[API, VCM, event, notification, 1G8G6RR, seems...</td>\n",
       "    </tr>\n",
       "    <tr>\n",
       "      <th>...</th>\n",
       "      <td>...</td>\n",
       "      <td>...</td>\n",
       "      <td>...</td>\n",
       "      <td>...</td>\n",
       "      <td>...</td>\n",
       "      <td>...</td>\n",
       "    </tr>\n",
       "    <tr>\n",
       "      <th>68119</th>\n",
       "      <td>229777</td>\n",
       "      <td>P3</td>\n",
       "      <td>[Viewers] Wrong argument in the first statemen...</td>\n",
       "      <td>Build ID: 3.3 (I am not sure what You mean by ...</td>\n",
       "      <td>UI</td>\n",
       "      <td>[Viewers, Wrong, argument, first, statement, m...</td>\n",
       "    </tr>\n",
       "    <tr>\n",
       "      <th>68120</th>\n",
       "      <td>229779</td>\n",
       "      <td>P3</td>\n",
       "      <td>NPE in performance tests</td>\n",
       "      <td>There are several NPEs within the UI session t...</td>\n",
       "      <td>UI</td>\n",
       "      <td>[NPE, performance, tests, several, NPEs, withi...</td>\n",
       "    </tr>\n",
       "    <tr>\n",
       "      <th>68121</th>\n",
       "      <td>229782</td>\n",
       "      <td>P3</td>\n",
       "      <td>Performance tests for ICU Collator</td>\n",
       "      <td>I20080501-0100; ; Now that were using the coll...</td>\n",
       "      <td>UI</td>\n",
       "      <td>[Performance, tests, ICU, Collator, I20080501-...</td>\n",
       "    </tr>\n",
       "    <tr>\n",
       "      <th>68122</th>\n",
       "      <td>229789</td>\n",
       "      <td>P3</td>\n",
       "      <td>[Examples] examples plugins create duplicate m...</td>\n",
       "      <td>Created attachment 98318; screenshot; ; I20080...</td>\n",
       "      <td>UI</td>\n",
       "      <td>[Examples, examples, plugins, create, duplicat...</td>\n",
       "    </tr>\n",
       "    <tr>\n",
       "      <th>68123</th>\n",
       "      <td>229792</td>\n",
       "      <td>P3</td>\n",
       "      <td>Collapse All and Expand All buttons are separated</td>\n",
       "      <td>Build ID: M20080221-1800; ; Steps To Reproduce...</td>\n",
       "      <td>Team</td>\n",
       "      <td>[Collapse, Expand, buttons, separated, Build, ...</td>\n",
       "    </tr>\n",
       "  </tbody>\n",
       "</table>\n",
       "<p>68124 rows × 6 columns</p>\n",
       "</div>"
      ],
      "text/plain": [
       "       Issue_id Priority                                              Title  \\\n",
       "0             1       P3    Usability issue with external editors (1GE6IRL)   \n",
       "1            13       P3          CC Discussion: local versioning (1GAT3PL)   \n",
       "2            12       P3     Manage/unmanage support and policies (1GALAEG)   \n",
       "3            11       P3  API: ISharingManager::load mapping vcm project...   \n",
       "4            10       P3             API - VCM event notification (1G8G6RR)   \n",
       "...         ...      ...                                                ...   \n",
       "68119    229777       P3  [Viewers] Wrong argument in the first statemen...   \n",
       "68120    229779       P3                           NPE in performance tests   \n",
       "68121    229782       P3                 Performance tests for ICU Collator   \n",
       "68122    229789       P3  [Examples] examples plugins create duplicate m...   \n",
       "68123    229792       P3  Collapse All and Expand All buttons are separated   \n",
       "\n",
       "                                             Description Component  \\\n",
       "0      - Setup a project that contains a *.gif resour...      Team   \n",
       "1      Would it make sense to have a (the?) projects ...      Team   \n",
       "2      Currently every new resource added to a shared...      Team   \n",
       "3      Jean-Michel (08/02/2001 1:38:48 PM); ; The ISh...      Team   \n",
       "4      There seems to be a need for a VCM Event notif...      Team   \n",
       "...                                                  ...       ...   \n",
       "68119  Build ID: 3.3 (I am not sure what You mean by ...        UI   \n",
       "68120  There are several NPEs within the UI session t...        UI   \n",
       "68121  I20080501-0100; ; Now that were using the coll...        UI   \n",
       "68122  Created attachment 98318; screenshot; ; I20080...        UI   \n",
       "68123  Build ID: M20080221-1800; ; Steps To Reproduce...      Team   \n",
       "\n",
       "                                           Combined_Text  \n",
       "0      [Usability, issue, external, editors, 1GE6IRL,...  \n",
       "1      [CC, Discussion, local, versioning, 1GAT3PL, W...  \n",
       "2      [Manage/unmanage, support, policies, 1GALAEG, ...  \n",
       "3      [API, ISharingManager, :load, mapping, vcm, pr...  \n",
       "4      [API, VCM, event, notification, 1G8G6RR, seems...  \n",
       "...                                                  ...  \n",
       "68119  [Viewers, Wrong, argument, first, statement, m...  \n",
       "68120  [NPE, performance, tests, several, NPEs, withi...  \n",
       "68121  [Performance, tests, ICU, Collator, I20080501-...  \n",
       "68122  [Examples, examples, plugins, create, duplicat...  \n",
       "68123  [Collapse, Expand, buttons, separated, Build, ...  \n",
       "\n",
       "[68124 rows x 6 columns]"
      ]
     },
<<<<<<< HEAD
     "execution_count": 10,
=======
     "execution_count": 11,
>>>>>>> 11d0d8cdaab221c85611bfcb85c4de2db02e18c8
     "metadata": {},
     "output_type": "execute_result"
    }
   ],
   "source": [
    "to_train"
   ]
  },
  {
   "cell_type": "code",
   "execution_count": null,
   "id": "037d10d2",
   "metadata": {},
   "outputs": [],
   "source": []
  },
  {
   "cell_type": "code",
   "execution_count": null,
   "id": "334afa73",
   "metadata": {},
   "outputs": [],
   "source": []
  }
 ],
 "metadata": {
  "kernelspec": {
   "display_name": "Python 3 (ipykernel)",
   "language": "python",
   "name": "python3"
  },
  "language_info": {
   "codemirror_mode": {
    "name": "ipython",
    "version": 3
   },
   "file_extension": ".py",
   "mimetype": "text/x-python",
   "name": "python",
   "nbconvert_exporter": "python",
   "pygments_lexer": "ipython3",
   "version": "3.11.5"
  }
 },
 "nbformat": 4,
 "nbformat_minor": 5
}
