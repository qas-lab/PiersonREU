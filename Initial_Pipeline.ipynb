{
 "cells": [
  {
   "cell_type": "code",
   "execution_count": null,
   "id": "204b13ee",
   "metadata": {},
   "outputs": [],
   "source": [
    "#All imports here"
   ]
  },
  {
   "cell_type": "code",
   "execution_count": null,
   "id": "fd7c2c89",
   "metadata": {},
   "outputs": [],
   "source": [
    "#Define a Preprocessing subpipeline"
   ]
  },
  {
   "cell_type": "code",
   "execution_count": 5,
   "id": "1d819cb4",
   "metadata": {},
   "outputs": [
    {
     "ename": "TypeError",
     "evalue": "LDATopicModelPipeline() takes no arguments",
     "output_type": "error",
     "traceback": [
      "\u001b[0;31m---------------------------------------------------------------------------\u001b[0m",
      "\u001b[0;31mTypeError\u001b[0m                                 Traceback (most recent call last)",
      "Cell \u001b[0;32mIn[5], line 24\u001b[0m\n\u001b[1;32m     22\u001b[0m vectorizer_path \u001b[38;5;241m=\u001b[39m \u001b[38;5;124m'\u001b[39m\u001b[38;5;124m/home/rpierson/PiersonREU/extracted/vec.pkl\u001b[39m\u001b[38;5;124m'\u001b[39m\n\u001b[1;32m     23\u001b[0m \u001b[38;5;66;03m#gives necessary files to process information\u001b[39;00m\n\u001b[0;32m---> 24\u001b[0m topic_model \u001b[38;5;241m=\u001b[39m LDATopicModelPipeline(lda_model_path, vectorizer_path)\n",
      "\u001b[0;31mTypeError\u001b[0m: LDATopicModelPipeline() takes no arguments"
     ]
    }
   ],
   "source": [
    "#Define a Topic Modeling subPipeline\n",
    "class LDATopicModelPipeline:\n",
    "    def _init_(self, lda_model_path, vectorizer_path):\n",
    "        self.lda_model_path = lda_model_path\n",
    "        self.vectorizer_path = vectorizer_path\n",
    "        self.lda = None\n",
    "        self.vectorizer = None\n",
    "        \n",
    "    def load_model(self):\n",
    "        self.lda = joblib.load(self.lda_model_path)\n",
    "        self.vectorizer = joblib.load(self.vectorizer_path)\n",
    "        \n",
    "    def topic_distributions(self, new_documents):\n",
    "        if self.lda is None or self.vectorizer is None:\n",
    "            self.load_model()\n",
    "            \n",
    "        docs_new = self.vectorizer.transform(new_documents)\n",
    "        topic_distributions = self.lda.transform(docs_new)\n",
    "        return topic_distributions\n",
    "\n",
    "lda_model_path = '/home/rpierson/PiersonREU/extracted/lda.pkl'\n",
    "vectorizer_path = '/home/rpierson/PiersonREU/extracted/vec.pkl'\n",
    "#gives necessary files to process information\n",
    "topic_model = LDATopicModelPipeline(lda_model_path, vectorizer_path)\n",
    "\n",
    "#use through this syntax: topic_distributions = topic_model.transform(new_documents)"
   ]
  },
  {
   "cell_type": "code",
   "execution_count": null,
   "id": "5c7cddf2",
   "metadata": {},
   "outputs": [],
   "source": [
    "#Define an Text Classification subpipeline"
   ]
  },
  {
   "cell_type": "code",
   "execution_count": null,
   "id": "2df03af2",
   "metadata": {},
   "outputs": [],
   "source": [
    "#Using the equations for accuracy information"
   ]
  },
  {
   "cell_type": "code",
   "execution_count": null,
   "id": "bc04cf0d",
   "metadata": {},
   "outputs": [],
   "source": [
    "def custom_pipeline(data):\n",
    "    #PreProcessing\n",
    "    #Topic Modeling (Insert Trained Model Here, Save as a .pth)\n",
    "    #Text Classification Per Topic (Insert Trained Model Here, Save as a .pth)\n",
    "    #Accuracy and Evaluation"
   ]
  }
 ],
 "metadata": {
  "kernelspec": {
   "display_name": "Python 3 (ipykernel)",
   "language": "python",
   "name": "python3"
  },
  "language_info": {
   "codemirror_mode": {
    "name": "ipython",
    "version": 3
   },
   "file_extension": ".py",
   "mimetype": "text/x-python",
   "name": "python",
   "nbconvert_exporter": "python",
   "pygments_lexer": "ipython3",
   "version": "3.11.9"
  }
 },
 "nbformat": 4,
 "nbformat_minor": 5
}
