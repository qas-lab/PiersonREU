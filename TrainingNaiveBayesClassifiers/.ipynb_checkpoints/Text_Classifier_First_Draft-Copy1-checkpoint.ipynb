{
 "cells": [
  {
   "cell_type": "code",
   "execution_count": 55,
   "id": "3903e2cf",
   "metadata": {},
   "outputs": [],
   "source": [
    "import pandas as pd\n",
    "import os\n",
    "import matplotlib.pyplot as plt\n",
    "import re\n",
    "import shutil\n",
    "import string\n",
    "from sklearn.naive_bayes import GaussianNB\n",
    "from sklearn.feature_extraction.text import CountVectorizer\n",
    "from sklearn.metrics import accuracy_score\n",
    "from nltk.corpus import stopwords #Word Stop\n",
    "from nltk.tokenize import word_tokenize #Tokenization & Word Stop"
   ]
  },
  {
   "cell_type": "code",
   "execution_count": 47,
   "id": "d44e5056",
   "metadata": {
    "scrolled": true
   },
   "outputs": [
    {
     "data": {
      "text/html": [
       "<div>\n",
       "<style scoped>\n",
       "    .dataframe tbody tr th:only-of-type {\n",
       "        vertical-align: middle;\n",
       "    }\n",
       "\n",
       "    .dataframe tbody tr th {\n",
       "        vertical-align: top;\n",
       "    }\n",
       "\n",
       "    .dataframe thead th {\n",
       "        text-align: right;\n",
       "    }\n",
       "</style>\n",
       "<table border=\"1\" class=\"dataframe\">\n",
       "  <thead>\n",
       "    <tr style=\"text-align: right;\">\n",
       "      <th></th>\n",
       "      <th>Issue_id</th>\n",
       "      <th>Priority</th>\n",
       "      <th>Title</th>\n",
       "      <th>Description</th>\n",
       "      <th>Component</th>\n",
       "      <th>Combined_Text</th>\n",
       "    </tr>\n",
       "  </thead>\n",
       "  <tbody>\n",
       "    <tr>\n",
       "      <th>0</th>\n",
       "      <td>1</td>\n",
       "      <td>P3</td>\n",
       "      <td>Usability issue with external editors (1GE6IRL)</td>\n",
       "      <td>- Setup a project that contains a *.gif resour...</td>\n",
       "      <td>Team</td>\n",
       "      <td>Usability issue with external editors (1GE6IRL...</td>\n",
       "    </tr>\n",
       "    <tr>\n",
       "      <th>1</th>\n",
       "      <td>13</td>\n",
       "      <td>P3</td>\n",
       "      <td>CC Discussion: local versioning (1GAT3PL)</td>\n",
       "      <td>Would it make sense to have a (the?) projects ...</td>\n",
       "      <td>Team</td>\n",
       "      <td>CC Discussion: local versioning (1GAT3PL)Would...</td>\n",
       "    </tr>\n",
       "    <tr>\n",
       "      <th>2</th>\n",
       "      <td>12</td>\n",
       "      <td>P3</td>\n",
       "      <td>Manage/unmanage support and policies (1GALAEG)</td>\n",
       "      <td>Currently every new resource added to a shared...</td>\n",
       "      <td>Team</td>\n",
       "      <td>Manage/unmanage support and policies (1GALAEG)...</td>\n",
       "    </tr>\n",
       "    <tr>\n",
       "      <th>3</th>\n",
       "      <td>11</td>\n",
       "      <td>P3</td>\n",
       "      <td>API: ISharingManager::load mapping vcm project...</td>\n",
       "      <td>Jean-Michel (08/02/2001 1:38:48 PM); ; The ISh...</td>\n",
       "      <td>Team</td>\n",
       "      <td>API: ISharingManager::load mapping vcm project...</td>\n",
       "    </tr>\n",
       "    <tr>\n",
       "      <th>4</th>\n",
       "      <td>10</td>\n",
       "      <td>P3</td>\n",
       "      <td>API - VCM event notification (1G8G6RR)</td>\n",
       "      <td>There seems to be a need for a VCM Event notif...</td>\n",
       "      <td>Team</td>\n",
       "      <td>API - VCM event notification (1G8G6RR)There se...</td>\n",
       "    </tr>\n",
       "  </tbody>\n",
       "</table>\n",
       "</div>"
      ],
      "text/plain": [
       "   Issue_id Priority                                              Title  \\\n",
       "0         1       P3    Usability issue with external editors (1GE6IRL)   \n",
       "1        13       P3          CC Discussion: local versioning (1GAT3PL)   \n",
       "2        12       P3     Manage/unmanage support and policies (1GALAEG)   \n",
       "3        11       P3  API: ISharingManager::load mapping vcm project...   \n",
       "4        10       P3             API - VCM event notification (1G8G6RR)   \n",
       "\n",
       "                                         Description Component  \\\n",
       "0  - Setup a project that contains a *.gif resour...      Team   \n",
       "1  Would it make sense to have a (the?) projects ...      Team   \n",
       "2  Currently every new resource added to a shared...      Team   \n",
       "3  Jean-Michel (08/02/2001 1:38:48 PM); ; The ISh...      Team   \n",
       "4  There seems to be a need for a VCM Event notif...      Team   \n",
       "\n",
       "                                       Combined_Text  \n",
       "0  Usability issue with external editors (1GE6IRL...  \n",
       "1  CC Discussion: local versioning (1GAT3PL)Would...  \n",
       "2  Manage/unmanage support and policies (1GALAEG)...  \n",
       "3  API: ISharingManager::load mapping vcm project...  \n",
       "4  API - VCM event notification (1G8G6RR)There se...  "
      ]
     },
     "execution_count": 47,
     "metadata": {},
     "output_type": "execute_result"
    }
   ],
   "source": [
    "to_train = pd.read_csv('/home/rpierson/PiersonREU/extracted/train_dataset_notpreprocessed.csv')\n",
    "to_train['Combined_Text'] = to_train['Title'] + to_train['Description'] + to_train['Component']\n",
    "data = to_train.copy()\n",
    "to_train.head()"
   ]
  },
  {
   "cell_type": "code",
   "execution_count": 50,
   "id": "bf28a5da",
   "metadata": {},
   "outputs": [],
   "source": [
    "to_get_topics = pd.read_csv('/home/rpierson/PiersonREU/extracted/train_dataset.csv')\n",
    "to_train['Topic'] = to_get_topics['Topic']\n"
   ]
  },
  {
   "cell_type": "code",
   "execution_count": 51,
   "id": "dde23407",
   "metadata": {
    "scrolled": true
   },
   "outputs": [],
   "source": [
    "topic_zero_data = to_train[to_train['Topic']==0]"
   ]
  },
  {
   "cell_type": "code",
   "execution_count": null,
   "id": "5e86ab1c",
   "metadata": {},
   "outputs": [],
   "source": []
  },
  {
   "cell_type": "code",
   "execution_count": 52,
   "id": "62851261",
   "metadata": {},
   "outputs": [],
   "source": [
    "\n",
    "extract_dir = '/home/rpierson/PiersonREU/extracted'\n",
    "topic_zero_path = os.path.join(extract_dir, 'topic_zero_data.csv')\n",
    "topic_zero_data.to_csv(topic_zero_path, index = False)"
   ]
  },
  {
   "cell_type": "code",
   "execution_count": 53,
   "id": "6c84d72c",
   "metadata": {},
   "outputs": [],
   "source": [
    "n = len(topic_zero_data)\n",
    "split_index = int(.8 * n)\n",
    "train_dataset = topic_zero_data.iloc[:split_index]\n",
    "validation_dataset = topic_zero_data.drop(topic_zero_data.index)"
   ]
  },
  {
   "cell_type": "code",
   "execution_count": 61,
   "id": "ce2284ee",
   "metadata": {},
   "outputs": [],
   "source": [
    "topic_zero_train_priority = train_dataset['Priority']\n",
    "topic_zero_train_data = train_dataset['Combined_Text']\n",
    "topic_zero_validation_priority = validation_dataset['Priority']\n",
    "topic_zero_validation_data = validation_dataset['Combined_Text']\n",
    "def extract_description(topic_zero_train_data):\n",
    "    # Using regular expression to extract text after the first parentheses\n",
    "    description_train = re.sub(r'^\\([^)]+\\)\\s*', '', topic_zero_train_data)\n",
    "    return description_train.strip()\n",
    "def extract_description(topic_zero_validation_data):\n",
    "    # Using regular expression to extract text after the first parentheses\n",
    "    description_validate = re.sub(r'^\\([^)]+\\)\\s*', '', topic_zero_validation_data)\n",
    "    return description_validate.strip()"
   ]
  },
  {
   "cell_type": "code",
   "execution_count": null,
   "id": "b1e88900",
   "metadata": {},
   "outputs": [],
   "source": []
  },
  {
   "cell_type": "code",
   "execution_count": 62,
   "id": "04fb417e",
   "metadata": {},
   "outputs": [
    {
     "name": "stderr",
     "output_type": "stream",
     "text": [
      "/home/rpierson/anaconda3/lib/python3.11/site-packages/sklearn/feature_extraction/text.py:525: UserWarning: The parameter 'token_pattern' will not be used since 'tokenizer' is not None'\n",
      "  warnings.warn(\n"
     ]
    }
   ],
   "source": [
    "vectorizer = CountVectorizer(stop_words = 'english', tokenizer = word_tokenize, lowercase = True)\n",
    "topic_zero_train_data = vectorizer.fit_transform(topic_zero_train_data)\n",
    "topic_zero_validation_data = vectorizer.transform(topic_zero_validation_data)"
   ]
  },
  {
   "cell_type": "code",
   "execution_count": 66,
   "id": "0b2755ea",
   "metadata": {},
   "outputs": [
    {
     "ename": "ValueError",
     "evalue": "Found array with 0 sample(s) (shape=(0, 56584)) while a minimum of 1 is required by GaussianNB.",
     "output_type": "error",
     "traceback": [
      "\u001b[0;31m---------------------------------------------------------------------------\u001b[0m",
      "\u001b[0;31mValueError\u001b[0m                                Traceback (most recent call last)",
      "Cell \u001b[0;32mIn[66], line 2\u001b[0m\n\u001b[1;32m      1\u001b[0m gnb \u001b[38;5;241m=\u001b[39m GaussianNB()\n\u001b[0;32m----> 2\u001b[0m y_pred \u001b[38;5;241m=\u001b[39m gnb\u001b[38;5;241m.\u001b[39mfit(topic_zero_train_data\u001b[38;5;241m.\u001b[39mtoarray(), topic_zero_train_priority)\u001b[38;5;241m.\u001b[39mpredict(topic_zero_validation_data\u001b[38;5;241m.\u001b[39mtoarray())\n",
      "File \u001b[0;32m~/anaconda3/lib/python3.11/site-packages/sklearn/naive_bayes.py:101\u001b[0m, in \u001b[0;36m_BaseNB.predict\u001b[0;34m(self, X)\u001b[0m\n\u001b[1;32m     87\u001b[0m \u001b[38;5;250m\u001b[39m\u001b[38;5;124;03m\"\"\"\u001b[39;00m\n\u001b[1;32m     88\u001b[0m \u001b[38;5;124;03mPerform classification on an array of test vectors X.\u001b[39;00m\n\u001b[1;32m     89\u001b[0m \n\u001b[0;32m   (...)\u001b[0m\n\u001b[1;32m     98\u001b[0m \u001b[38;5;124;03m    Predicted target values for X.\u001b[39;00m\n\u001b[1;32m     99\u001b[0m \u001b[38;5;124;03m\"\"\"\u001b[39;00m\n\u001b[1;32m    100\u001b[0m check_is_fitted(\u001b[38;5;28mself\u001b[39m)\n\u001b[0;32m--> 101\u001b[0m X \u001b[38;5;241m=\u001b[39m \u001b[38;5;28mself\u001b[39m\u001b[38;5;241m.\u001b[39m_check_X(X)\n\u001b[1;32m    102\u001b[0m jll \u001b[38;5;241m=\u001b[39m \u001b[38;5;28mself\u001b[39m\u001b[38;5;241m.\u001b[39m_joint_log_likelihood(X)\n\u001b[1;32m    103\u001b[0m \u001b[38;5;28;01mreturn\u001b[39;00m \u001b[38;5;28mself\u001b[39m\u001b[38;5;241m.\u001b[39mclasses_[np\u001b[38;5;241m.\u001b[39margmax(jll, axis\u001b[38;5;241m=\u001b[39m\u001b[38;5;241m1\u001b[39m)]\n",
      "File \u001b[0;32m~/anaconda3/lib/python3.11/site-packages/sklearn/naive_bayes.py:269\u001b[0m, in \u001b[0;36mGaussianNB._check_X\u001b[0;34m(self, X)\u001b[0m\n\u001b[1;32m    267\u001b[0m \u001b[38;5;28;01mdef\u001b[39;00m \u001b[38;5;21m_check_X\u001b[39m(\u001b[38;5;28mself\u001b[39m, X):\n\u001b[1;32m    268\u001b[0m \u001b[38;5;250m    \u001b[39m\u001b[38;5;124;03m\"\"\"Validate X, used only in predict* methods.\"\"\"\u001b[39;00m\n\u001b[0;32m--> 269\u001b[0m     \u001b[38;5;28;01mreturn\u001b[39;00m \u001b[38;5;28mself\u001b[39m\u001b[38;5;241m.\u001b[39m_validate_data(X, reset\u001b[38;5;241m=\u001b[39m\u001b[38;5;28;01mFalse\u001b[39;00m)\n",
      "File \u001b[0;32m~/anaconda3/lib/python3.11/site-packages/sklearn/base.py:604\u001b[0m, in \u001b[0;36mBaseEstimator._validate_data\u001b[0;34m(self, X, y, reset, validate_separately, cast_to_ndarray, **check_params)\u001b[0m\n\u001b[1;32m    602\u001b[0m         out \u001b[38;5;241m=\u001b[39m X, y\n\u001b[1;32m    603\u001b[0m \u001b[38;5;28;01melif\u001b[39;00m \u001b[38;5;129;01mnot\u001b[39;00m no_val_X \u001b[38;5;129;01mand\u001b[39;00m no_val_y:\n\u001b[0;32m--> 604\u001b[0m     out \u001b[38;5;241m=\u001b[39m check_array(X, input_name\u001b[38;5;241m=\u001b[39m\u001b[38;5;124m\"\u001b[39m\u001b[38;5;124mX\u001b[39m\u001b[38;5;124m\"\u001b[39m, \u001b[38;5;241m*\u001b[39m\u001b[38;5;241m*\u001b[39mcheck_params)\n\u001b[1;32m    605\u001b[0m \u001b[38;5;28;01melif\u001b[39;00m no_val_X \u001b[38;5;129;01mand\u001b[39;00m \u001b[38;5;129;01mnot\u001b[39;00m no_val_y:\n\u001b[1;32m    606\u001b[0m     out \u001b[38;5;241m=\u001b[39m _check_y(y, \u001b[38;5;241m*\u001b[39m\u001b[38;5;241m*\u001b[39mcheck_params)\n",
      "File \u001b[0;32m~/anaconda3/lib/python3.11/site-packages/sklearn/utils/validation.py:969\u001b[0m, in \u001b[0;36mcheck_array\u001b[0;34m(array, accept_sparse, accept_large_sparse, dtype, order, copy, force_all_finite, ensure_2d, allow_nd, ensure_min_samples, ensure_min_features, estimator, input_name)\u001b[0m\n\u001b[1;32m    967\u001b[0m     n_samples \u001b[38;5;241m=\u001b[39m _num_samples(array)\n\u001b[1;32m    968\u001b[0m     \u001b[38;5;28;01mif\u001b[39;00m n_samples \u001b[38;5;241m<\u001b[39m ensure_min_samples:\n\u001b[0;32m--> 969\u001b[0m         \u001b[38;5;28;01mraise\u001b[39;00m \u001b[38;5;167;01mValueError\u001b[39;00m(\n\u001b[1;32m    970\u001b[0m             \u001b[38;5;124m\"\u001b[39m\u001b[38;5;124mFound array with \u001b[39m\u001b[38;5;132;01m%d\u001b[39;00m\u001b[38;5;124m sample(s) (shape=\u001b[39m\u001b[38;5;132;01m%s\u001b[39;00m\u001b[38;5;124m) while a\u001b[39m\u001b[38;5;124m\"\u001b[39m\n\u001b[1;32m    971\u001b[0m             \u001b[38;5;124m\"\u001b[39m\u001b[38;5;124m minimum of \u001b[39m\u001b[38;5;132;01m%d\u001b[39;00m\u001b[38;5;124m is required\u001b[39m\u001b[38;5;132;01m%s\u001b[39;00m\u001b[38;5;124m.\u001b[39m\u001b[38;5;124m\"\u001b[39m\n\u001b[1;32m    972\u001b[0m             \u001b[38;5;241m%\u001b[39m (n_samples, array\u001b[38;5;241m.\u001b[39mshape, ensure_min_samples, context)\n\u001b[1;32m    973\u001b[0m         )\n\u001b[1;32m    975\u001b[0m \u001b[38;5;28;01mif\u001b[39;00m ensure_min_features \u001b[38;5;241m>\u001b[39m \u001b[38;5;241m0\u001b[39m \u001b[38;5;129;01mand\u001b[39;00m array\u001b[38;5;241m.\u001b[39mndim \u001b[38;5;241m==\u001b[39m \u001b[38;5;241m2\u001b[39m:\n\u001b[1;32m    976\u001b[0m     n_features \u001b[38;5;241m=\u001b[39m array\u001b[38;5;241m.\u001b[39mshape[\u001b[38;5;241m1\u001b[39m]\n",
      "\u001b[0;31mValueError\u001b[0m: Found array with 0 sample(s) (shape=(0, 56584)) while a minimum of 1 is required by GaussianNB."
     ]
    }
   ],
   "source": [
    "gnb = GaussianNB()\n",
    "y_pred = gnb.fit(topic_zero_train_data.toarray(), topic_zero_train_priority).predict(topic_zero_validation_data.toarray())"
   ]
  },
  {
   "cell_type": "code",
   "execution_count": null,
   "id": "f45db5d9",
   "metadata": {},
   "outputs": [],
   "source": [
    "print(\"Number of mislabeled points out of a total %d points : %d\"\n",
    "      % (topic_zero_train_data.shape[0], (topic_zero_test_priority != y_pred).sum()))"
   ]
  }
 ],
 "metadata": {
  "kernelspec": {
   "display_name": "Python 3 (ipykernel)",
   "language": "python",
   "name": "python3"
  },
  "language_info": {
   "codemirror_mode": {
    "name": "ipython",
    "version": 3
   },
   "file_extension": ".py",
   "mimetype": "text/x-python",
   "name": "python",
   "nbconvert_exporter": "python",
   "pygments_lexer": "ipython3",
   "version": "3.11.5"
  }
 },
 "nbformat": 4,
 "nbformat_minor": 5
}
