{
 "cells": [
  {
   "cell_type": "code",
   "execution_count": 1,
   "id": "3903e2cf",
   "metadata": {},
   "outputs": [],
   "source": [
    "import pandas as pd\n",
    "import os\n",
    "import matplotlib.pyplot as plt\n",
    "import re\n",
    "import shutil\n",
    "import string\n",
    "from sklearn.naive_bayes import GaussianNB\n",
    "from sklearn.feature_extraction.text import TfidfVectorizer\n",
    "from sklearn.metrics import accuracy_score\n",
    "from nltk.corpus import stopwords #Word Stop\n",
    "from nltk.tokenize import word_tokenize #Tokenization & Word Stop\n",
    "from scipy.sparse import csr_matrix\n",
    "import joblib"
   ]
  },
  {
   "cell_type": "code",
   "execution_count": 3,
   "id": "a2f0f27c",
   "metadata": {},
   "outputs": [],
   "source": [
    "#Creating topic-specific classifiers for each topic created using LDA"
   ]
  },
  {
   "cell_type": "code",
   "execution_count": 2,
   "id": "07fecbb3",
   "metadata": {
    "scrolled": true
   },
   "outputs": [
    {
     "name": "stderr",
     "output_type": "stream",
     "text": [
      "/home//anaconda3/envs/secondenvi/lib/python3.11/site-packages/sklearn/feature_extraction/text.py:525: UserWarning: The parameter 'token_pattern' will not be used since 'tokenizer' is not None'\n",
      "  warnings.warn(\n",
      "/home//anaconda3/envs/secondenvi/lib/python3.11/site-packages/sklearn/feature_extraction/text.py:525: UserWarning: The parameter 'token_pattern' will not be used since 'tokenizer' is not None'\n",
      "  warnings.warn(\n",
      "/home//anaconda3/envs/secondenvi/lib/python3.11/site-packages/sklearn/feature_extraction/text.py:525: UserWarning: The parameter 'token_pattern' will not be used since 'tokenizer' is not None'\n",
      "  warnings.warn(\n",
      "/home//anaconda3/envs/secondenvi/lib/python3.11/site-packages/sklearn/feature_extraction/text.py:525: UserWarning: The parameter 'token_pattern' will not be used since 'tokenizer' is not None'\n",
      "  warnings.warn(\n",
      "/home//anaconda3/envs/secondenvi/lib/python3.11/site-packages/sklearn/feature_extraction/text.py:525: UserWarning: The parameter 'token_pattern' will not be used since 'tokenizer' is not None'\n",
      "  warnings.warn(\n",
      "/home//anaconda3/envs/secondenvi/lib/python3.11/site-packages/sklearn/feature_extraction/text.py:525: UserWarning: The parameter 'token_pattern' will not be used since 'tokenizer' is not None'\n",
      "  warnings.warn(\n",
      "/home//anaconda3/envs/secondenvi/lib/python3.11/site-packages/sklearn/feature_extraction/text.py:525: UserWarning: The parameter 'token_pattern' will not be used since 'tokenizer' is not None'\n",
      "  warnings.warn(\n",
      "/home//anaconda3/envs/secondenvi/lib/python3.11/site-packages/sklearn/feature_extraction/text.py:525: UserWarning: The parameter 'token_pattern' will not be used since 'tokenizer' is not None'\n",
      "  warnings.warn(\n",
      "/home//anaconda3/envs/secondenvi/lib/python3.11/site-packages/sklearn/feature_extraction/text.py:525: UserWarning: The parameter 'token_pattern' will not be used since 'tokenizer' is not None'\n",
      "  warnings.warn(\n",
      "/home//anaconda3/envs/secondenvi/lib/python3.11/site-packages/sklearn/feature_extraction/text.py:525: UserWarning: The parameter 'token_pattern' will not be used since 'tokenizer' is not None'\n",
      "  warnings.warn(\n"
     ]
    }
   ],
   "source": [
    "num_topics = 10\n",
    "vectorizer = TfidfVectorizer(max_features = 99158, stop_words = 'english', tokenizer = word_tokenize, lowercase = True)\n",
    "extract_dir = '/home///TrainingNaiveBayesClassifiers/bayes'\n",
    "for x in range(num_topics):\n",
    "    to_train = pd.read_csv(f'/home//Topic_Files/topic_{x}.csv')\n",
    "    \n",
    "    n = len(to_train)\n",
    "    split_index = int(.8 * n)\n",
    "    train_dataset = to_train.iloc[:split_index]\n",
    "    validation_dataset = to_train.drop(train_dataset.index)\n",
    "    \n",
    "    topic_train_priority = train_dataset['Priority']\n",
    "    topic_train_data = train_dataset['Combined_Text']\n",
    "    topic_validation_priority = validation_dataset['Priority']\n",
    "    topic_validation_data = validation_dataset['Combined_Text']\n",
    "    def extract_description(topic_train_data):\n",
    "        # Using regular expression to extract text after the first parentheses\n",
    "        description_train = re.sub(r'^\\([^)]+\\)\\s*', '', topic_train_data)\n",
    "        return description_train.strip()\n",
    "    def extract_description(topic_validation_data):\n",
    "        # Using regular expression to extract text after the first parentheses\n",
    "        description_validate = re.sub(r'^\\([^)]+\\)\\s*', '', topic_validation_data)\n",
    "        return description_validate.strip()\n",
    "    topic_train_data = vectorizer.fit_transform(topic_train_data)\n",
    "    topic_validation_data = vectorizer.transform(topic_validation_data)\n",
    "    nb = GaussianNB()\n",
    "    #to use the following function: topic_prediction_function.predict(topic_validation_data.toarray())\n",
    "    topic_prediction_function = nb.fit(topic_train_data.toarray(), topic_train_priority)\n",
    "    topic_pred_file = os.path.join(extract_dir, f'topic_pred_{x}.pkl')\n",
    "    joblib.dump(topic_prediction_function, topic_pred_file)\n",
    "    vec_pred_file = os.path.join(extract_dir, f'vec_{x}.pkl')\n",
    "    joblib.dump(vectorizer, vec_pred_file)"
   ]
  },
  {
   "cell_type": "code",
   "execution_count": null,
   "id": "3515b7de",
   "metadata": {},
   "outputs": [],
   "source": [
    "#The rest of this code is this initial phase of testing to see if I could train a text classifier for a specific topic before doing all ten topics at once"
   ]
  },
  {
   "cell_type": "code",
   "execution_count": 3,
   "id": "c81d1cc3",
   "metadata": {
    "scrolled": true
   },
   "outputs": [
    {
     "data": {
      "text/html": [
       "<div>\n",
       "<style scoped>\n",
       "    .dataframe tbody tr th:only-of-type {\n",
       "        vertical-align: middle;\n",
       "    }\n",
       "\n",
       "    .dataframe tbody tr th {\n",
       "        vertical-align: top;\n",
       "    }\n",
       "\n",
       "    .dataframe thead th {\n",
       "        text-align: right;\n",
       "    }\n",
       "</style>\n",
       "<table border=\"1\" class=\"dataframe\">\n",
       "  <thead>\n",
       "    <tr style=\"text-align: right;\">\n",
       "      <th></th>\n",
       "      <th>Combined_Text</th>\n",
       "      <th>Priority</th>\n",
       "    </tr>\n",
       "  </thead>\n",
       "  <tbody>\n",
       "    <tr>\n",
       "      <th>0</th>\n",
       "      <td>vcmSniff.bat should be in another project (1GK...</td>\n",
       "      <td>3</td>\n",
       "    </tr>\n",
       "    <tr>\n",
       "      <th>1</th>\n",
       "      <td>CSS and javascript inserted twice into documen...</td>\n",
       "      <td>3</td>\n",
       "    </tr>\n",
       "    <tr>\n",
       "      <th>2</th>\n",
       "      <td>Null pointer exception in Help Server if url /...</td>\n",
       "      <td>3</td>\n",
       "    </tr>\n",
       "    <tr>\n",
       "      <th>3</th>\n",
       "      <td>WALKBACK - EditableTable (1G5T6MC) UI Debugger...</td>\n",
       "      <td>3</td>\n",
       "    </tr>\n",
       "    <tr>\n",
       "      <th>4</th>\n",
       "      <td>WALBAKCK - Long Operation (1G5T6TP) UI Walkbac...</td>\n",
       "      <td>3</td>\n",
       "    </tr>\n",
       "  </tbody>\n",
       "</table>\n",
       "</div>"
      ],
      "text/plain": [
       "                                       Combined_Text  Priority\n",
       "0  vcmSniff.bat should be in another project (1GK...         3\n",
       "1  CSS and javascript inserted twice into documen...         3\n",
       "2  Null pointer exception in Help Server if url /...         3\n",
       "3  WALKBACK - EditableTable (1G5T6MC) UI Debugger...         3\n",
       "4  WALBAKCK - Long Operation (1G5T6TP) UI Walkbac...         3"
      ]
     },
     "execution_count": 3,
     "metadata": {},
     "output_type": "execute_result"
    }
   ],
   "source": [
    "to_train = pd.read_csv('/home//Topic_Files/topic_0.csv')\n",
    "to_train.head()"
   ]
  },
  {
   "cell_type": "code",
   "execution_count": 4,
   "id": "6ec2c398",
   "metadata": {},
   "outputs": [
    {
     "data": {
      "text/plain": [
       "array([3, 2, 4, 1, 5])"
      ]
     },
     "execution_count": 4,
     "metadata": {},
     "output_type": "execute_result"
    }
   ],
   "source": [
    "#Testing code snippet for pipeline usage\n",
    "unique_topics = to_train.drop_duplicates('Priority')['Priority'].values\n",
    "unique_topics"
   ]
  },
  {
   "cell_type": "code",
   "execution_count": 5,
   "id": "cbfbac77",
   "metadata": {},
   "outputs": [],
   "source": [
    "n = len(to_train)\n",
    "split_index = int(.8 * n)\n",
    "train_dataset = to_train.iloc[:split_index]\n",
    "validation_dataset = to_train.drop(train_dataset.index)"
   ]
  },
  {
   "cell_type": "code",
   "execution_count": 6,
   "id": "2eec7b0e",
   "metadata": {},
   "outputs": [],
   "source": [
    "topic_train_priority = train_dataset['Priority']\n",
    "topic_train_data = train_dataset['Combined_Text']\n",
    "topic_validation_priority = validation_dataset['Priority']\n",
    "topic_validation_data = validation_dataset['Combined_Text']\n",
    "def extract_description(topic_train_data):\n",
    "    # Using regular expression to extract text after the first parentheses\n",
    "    description_train = re.sub(r'^\\([^)]+\\)\\s*', '', topic_train_data)\n",
    "    return description_train.strip()\n",
    "def extract_description(topic_validation_data):\n",
    "    # Using regular expression to extract text after the first parentheses\n",
    "    description_validate = re.sub(r'^\\([^)]+\\)\\s*', '', topic_validation_data)\n",
    "    return description_validate.strip()"
   ]
  },
  {
   "cell_type": "code",
   "execution_count": 7,
   "id": "4e708458",
   "metadata": {
    "scrolled": true
   },
   "outputs": [
    {
     "name": "stdout",
     "output_type": "stream",
     "text": [
      "(824,)\n",
      "(206,)\n"
     ]
    }
   ],
   "source": [
    "print(topic_train_data.shape)\n",
    "print(topic_validation_data.shape)"
   ]
  },
  {
   "cell_type": "code",
   "execution_count": 8,
   "id": "b90b5027",
   "metadata": {},
   "outputs": [
    {
     "ename": "NameError",
     "evalue": "name 'CountVectorizer' is not defined",
     "output_type": "error",
     "traceback": [
      "\u001b[0;31m---------------------------------------------------------------------------\u001b[0m",
      "\u001b[0;31mNameError\u001b[0m                                 Traceback (most recent call last)",
      "Cell \u001b[0;32mIn[8], line 1\u001b[0m\n\u001b[0;32m----> 1\u001b[0m vectorizer \u001b[38;5;241m=\u001b[39m CountVectorizer(stop_words \u001b[38;5;241m=\u001b[39m \u001b[38;5;124m'\u001b[39m\u001b[38;5;124menglish\u001b[39m\u001b[38;5;124m'\u001b[39m, tokenizer \u001b[38;5;241m=\u001b[39m word_tokenize, lowercase \u001b[38;5;241m=\u001b[39m \u001b[38;5;28;01mTrue\u001b[39;00m)\n\u001b[1;32m      2\u001b[0m topic_train_data \u001b[38;5;241m=\u001b[39m vectorizer\u001b[38;5;241m.\u001b[39mfit_transform(topic_train_data)\n\u001b[1;32m      3\u001b[0m topic_validation_data \u001b[38;5;241m=\u001b[39m vectorizer\u001b[38;5;241m.\u001b[39mtransform(topic_validation_data)\n",
      "\u001b[0;31mNameError\u001b[0m: name 'CountVectorizer' is not defined"
     ]
    }
   ],
   "source": [
    "vectorizer = CountVectorizer(stop_words = 'english', tokenizer = word_tokenize, lowercase = True)\n",
    "topic_train_data = vectorizer.fit_transform(topic_train_data)\n",
    "topic_validation_data = vectorizer.transform(topic_validation_data)"
   ]
  },
  {
   "cell_type": "code",
   "execution_count": null,
   "id": "8b21edeb",
   "metadata": {},
   "outputs": [],
   "source": [
    "nb = MultinomialNB()\n",
    "y_pred = nb.fit(topic_train_data.toarray(), topic_train_priority).predict(topic_validation_data.toarray())"
   ]
  },
  {
   "cell_type": "code",
   "execution_count": null,
   "id": "66df41d4",
   "metadata": {},
   "outputs": [],
   "source": [
    "#What I need to do:\n",
    "    #for each dataframe (based on topic), run the Naive bayes classifier and save the trained\n",
    "    #model within a model_file_num to access within pipeline"
   ]
  },
  {
   "cell_type": "code",
   "execution_count": null,
   "id": "e6f1415d",
   "metadata": {},
   "outputs": [],
   "source": [
    "print(\"Number of correctly labeled points out of a total %d points : %d\"\n",
    "      % (topic_validation_data.shape[0], (topic_validation_priority == y_pred).sum()))"
   ]
  },
  {
   "cell_type": "code",
   "execution_count": null,
   "id": "92f39556",
   "metadata": {},
   "outputs": [],
   "source": [
    "priority_dispersion = to_train.groupby('Priority').count()\n",
    "priority_dispersion"
   ]
  },
  {
   "cell_type": "code",
   "execution_count": null,
   "id": "03c3e5a6",
   "metadata": {},
   "outputs": [],
   "source": [
    "validation_dataset.shape[0]"
   ]
  },
  {
   "cell_type": "code",
   "execution_count": null,
   "id": "93bc4055",
   "metadata": {},
   "outputs": [],
   "source": [
    "validation_dis = validation_dataset.groupby('Priority').count()\n",
    "validation_dis"
   ]
  },
  {
   "cell_type": "code",
   "execution_count": null,
   "id": "14f2618b",
   "metadata": {},
   "outputs": [],
   "source": [
    "train_dataset.shape[0]"
   ]
  },
  {
   "cell_type": "code",
   "execution_count": null,
   "id": "4743c3a1",
   "metadata": {},
   "outputs": [],
   "source": []
  },
  {
   "cell_type": "code",
   "execution_count": null,
   "id": "be97ca52",
   "metadata": {},
   "outputs": [],
   "source": []
  }
 ],
 "metadata": {
  "kernelspec": {
   "display_name": "Python 3 (ipykernel)",
   "language": "python",
   "name": "python3"
  },
  "language_info": {
   "codemirror_mode": {
    "name": "ipython",
    "version": 3
   },
   "file_extension": ".py",
   "mimetype": "text/x-python",
   "name": "python",
   "nbconvert_exporter": "python",
   "pygments_lexer": "ipython3",
   "version": "3.11.7"
  }
 },
 "nbformat": 4,
 "nbformat_minor": 5
}
