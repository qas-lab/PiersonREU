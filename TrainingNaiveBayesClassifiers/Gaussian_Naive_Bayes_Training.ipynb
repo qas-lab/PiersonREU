{
 "cells": [
  {
   "cell_type": "code",
   "execution_count": 2,
   "id": "3903e2cf",
   "metadata": {},
   "outputs": [
    {
     "ename": "ModuleNotFoundError",
     "evalue": "No module named 'sklearn'",
     "output_type": "error",
     "traceback": [
      "\u001b[0;31m---------------------------------------------------------------------------\u001b[0m",
      "\u001b[0;31mModuleNotFoundError\u001b[0m                       Traceback (most recent call last)",
      "Cell \u001b[0;32mIn[2], line 7\u001b[0m\n\u001b[1;32m      5\u001b[0m \u001b[38;5;28;01mimport\u001b[39;00m \u001b[38;5;21;01mshutil\u001b[39;00m\n\u001b[1;32m      6\u001b[0m \u001b[38;5;28;01mimport\u001b[39;00m \u001b[38;5;21;01mstring\u001b[39;00m\n\u001b[0;32m----> 7\u001b[0m \u001b[38;5;28;01mfrom\u001b[39;00m \u001b[38;5;21;01msklearn\u001b[39;00m\u001b[38;5;21;01m.\u001b[39;00m\u001b[38;5;21;01mnaive_bayes\u001b[39;00m \u001b[38;5;28;01mimport\u001b[39;00m GaussianNB\n\u001b[1;32m      8\u001b[0m \u001b[38;5;28;01mfrom\u001b[39;00m \u001b[38;5;21;01msklearn\u001b[39;00m\u001b[38;5;21;01m.\u001b[39;00m\u001b[38;5;21;01mfeature_extraction\u001b[39;00m\u001b[38;5;21;01m.\u001b[39;00m\u001b[38;5;21;01mtext\u001b[39;00m \u001b[38;5;28;01mimport\u001b[39;00m TfidfVectorizer\n\u001b[1;32m      9\u001b[0m \u001b[38;5;28;01mfrom\u001b[39;00m \u001b[38;5;21;01msklearn\u001b[39;00m\u001b[38;5;21;01m.\u001b[39;00m\u001b[38;5;21;01mmetrics\u001b[39;00m \u001b[38;5;28;01mimport\u001b[39;00m accuracy_score\n",
      "\u001b[0;31mModuleNotFoundError\u001b[0m: No module named 'sklearn'"
     ]
    }
   ],
   "source": [
    "import pandas as pd\n",
    "import os\n",
    "import matplotlib.pyplot as plt\n",
    "import re\n",
    "import shutil\n",
    "import string\n",
    "from sklearn.naive_bayes import GaussianNB\n",
    "from sklearn.feature_extraction.text import TfidfVectorizer\n",
    "from sklearn.metrics import accuracy_score\n",
    "from nltk.corpus import stopwords #Word Stop\n",
    "from nltk.tokenize import word_tokenize #Tokenization & Word Stop\n",
    "from scipy.sparse import csr_matrix\n",
    "import joblib"
   ]
  },
  {
   "cell_type": "code",
   "execution_count": null,
   "id": "07fecbb3",
   "metadata": {},
   "outputs": [],
   "source": [
    "num_topics = 10\n",
    "vectorizer = TfidfVectorizer(max_features = 99158, stop_words = 'english', tokenizer = word_tokenize, lowercase = True)\n",
    "extract_dir = '/home/rpierson/githubPierson/bayes'\n",
    "for x in range(num_topics):\n",
    "    to_train = pd.read_csv(f'/home/rpierson/Topic_Files/topic_{x}.csv')\n",
    "    \n",
    "    n = len(to_train)\n",
    "    split_index = int(.8 * n)\n",
    "    train_dataset = to_train.iloc[:split_index]\n",
    "    validation_dataset = to_train.drop(train_dataset.index)\n",
    "    \n",
    "    topic_train_priority = train_dataset['Priority']\n",
    "    topic_train_data = train_dataset['Combined_Text']\n",
    "    topic_validation_priority = validation_dataset['Priority']\n",
    "    topic_validation_data = validation_dataset['Combined_Text']\n",
    "    def extract_description(topic_train_data):\n",
    "        # Using regular expression to extract text after the first parentheses\n",
    "        description_train = re.sub(r'^\\([^)]+\\)\\s*', '', topic_train_data)\n",
    "        return description_train.strip()\n",
    "    def extract_description(topic_validation_data):\n",
    "        # Using regular expression to extract text after the first parentheses\n",
    "        description_validate = re.sub(r'^\\([^)]+\\)\\s*', '', topic_validation_data)\n",
    "        return description_validate.strip()\n",
    "    topic_train_data = vectorizer.fit_transform(topic_train_data)\n",
    "    topic_validation_data = vectorizer.transform(topic_validation_data)\n",
    "    nb = GaussianNB()\n",
    "    #to use the following function: topic_prediction_function.predict(topic_validation_data.toarray())\n",
    "    topic_prediction_function = nb.fit(topic_train_data.toarray(), topic_train_priority)\n",
    "    topic_pred_file = os.path.join(extract_dir, f'topic_pred_{x}.pkl')\n",
    "    joblib.dump(topic_prediction_function, topic_pred_file)\n",
    "    vec_pred_file = os.path.join(extract_dir, f'vec_{x}.pkl')\n",
    "    joblib.dump(vectorizer, vec_pred_file)"
   ]
  },
  {
   "cell_type": "code",
   "execution_count": null,
   "id": "c81d1cc3",
   "metadata": {
    "scrolled": true
   },
   "outputs": [],
   "source": [
    "to_train = pd.read_csv('/home/rpierson/Topic_Files/topic_0.csv')\n",
    "to_train.head()"
   ]
  },
  {
   "cell_type": "code",
   "execution_count": null,
   "id": "6ec2c398",
   "metadata": {},
   "outputs": [],
   "source": [
    "#Testing code snippet for pipeline usage\n",
    "unique_topics = to_train.drop_duplicates('Priority')['Priority'].values\n",
    "unique_topics"
   ]
  },
  {
   "cell_type": "code",
   "execution_count": null,
   "id": "cbfbac77",
   "metadata": {},
   "outputs": [],
   "source": [
    "n = len(to_train)\n",
    "split_index = int(.8 * n)\n",
    "train_dataset = to_train.iloc[:split_index]\n",
    "validation_dataset = to_train.drop(train_dataset.index)"
   ]
  },
  {
   "cell_type": "code",
   "execution_count": null,
   "id": "2eec7b0e",
   "metadata": {},
   "outputs": [],
   "source": [
    "topic_train_priority = train_dataset['Priority']\n",
    "topic_train_data = train_dataset['Combined_Text']\n",
    "topic_validation_priority = validation_dataset['Priority']\n",
    "topic_validation_data = validation_dataset['Combined_Text']\n",
    "def extract_description(topic_train_data):\n",
    "    # Using regular expression to extract text after the first parentheses\n",
    "    description_train = re.sub(r'^\\([^)]+\\)\\s*', '', topic_train_data)\n",
    "    return description_train.strip()\n",
    "def extract_description(topic_validation_data):\n",
    "    # Using regular expression to extract text after the first parentheses\n",
    "    description_validate = re.sub(r'^\\([^)]+\\)\\s*', '', topic_validation_data)\n",
    "    return description_validate.strip()"
   ]
  },
  {
   "cell_type": "code",
   "execution_count": null,
   "id": "4e708458",
   "metadata": {
    "scrolled": true
   },
   "outputs": [],
   "source": [
    "print(topic_train_data.shape)\n",
    "print(topic_validation_data.shape)"
   ]
  },
  {
   "cell_type": "code",
   "execution_count": null,
   "id": "b90b5027",
   "metadata": {},
   "outputs": [],
   "source": [
    "vectorizer = CountVectorizer(stop_words = 'english', tokenizer = word_tokenize, lowercase = True)\n",
    "topic_train_data = vectorizer.fit_transform(topic_train_data)\n",
    "topic_validation_data = vectorizer.transform(topic_validation_data)"
   ]
  },
  {
   "cell_type": "code",
   "execution_count": null,
   "id": "8b21edeb",
   "metadata": {},
   "outputs": [],
   "source": [
    "nb = MultinomialNB()\n",
    "y_pred = nb.fit(topic_train_data.toarray(), topic_train_priority).predict(topic_validation_data.toarray())"
   ]
  },
  {
   "cell_type": "code",
   "execution_count": null,
   "id": "66df41d4",
   "metadata": {},
   "outputs": [],
   "source": [
    "#What I need to do:\n",
    "    #for each dataframe (based on topic), run the Naive bayes classifier and save the trained\n",
    "    #model within a model_file_num to access within pipeline"
   ]
  },
  {
   "cell_type": "code",
   "execution_count": null,
   "id": "e6f1415d",
   "metadata": {},
   "outputs": [],
   "source": [
    "print(\"Number of correctly labeled points out of a total %d points : %d\"\n",
    "      % (topic_validation_data.shape[0], (topic_validation_priority == y_pred).sum()))"
   ]
  },
  {
   "cell_type": "code",
   "execution_count": null,
   "id": "92f39556",
   "metadata": {},
   "outputs": [],
   "source": [
    "priority_dispersion = to_train.groupby('Priority').count()\n",
    "priority_dispersion"
   ]
  },
  {
   "cell_type": "code",
   "execution_count": null,
   "id": "03c3e5a6",
   "metadata": {},
   "outputs": [],
   "source": [
    "validation_dataset.shape[0]"
   ]
  },
  {
   "cell_type": "code",
   "execution_count": null,
   "id": "93bc4055",
   "metadata": {},
   "outputs": [],
   "source": [
    "validation_dis = validation_dataset.groupby('Priority').count()\n",
    "validation_dis"
   ]
  },
  {
   "cell_type": "code",
   "execution_count": null,
   "id": "14f2618b",
   "metadata": {},
   "outputs": [],
   "source": [
    "train_dataset.shape[0]"
   ]
  },
  {
   "cell_type": "code",
   "execution_count": null,
   "id": "4743c3a1",
   "metadata": {},
   "outputs": [],
   "source": []
  },
  {
   "cell_type": "code",
   "execution_count": null,
   "id": "be97ca52",
   "metadata": {},
   "outputs": [],
   "source": []
  }
 ],
 "metadata": {
  "kernelspec": {
   "display_name": "Python 3 (ipykernel)",
   "language": "python",
   "name": "python3"
  },
  "language_info": {
   "codemirror_mode": {
    "name": "ipython",
    "version": 3
   },
   "file_extension": ".py",
   "mimetype": "text/x-python",
   "name": "python",
   "nbconvert_exporter": "python",
   "pygments_lexer": "ipython3",
   "version": "3.11.7"
  }
 },
 "nbformat": 4,
 "nbformat_minor": 5
}
