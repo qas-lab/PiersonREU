{
 "cells": [
  {
   "cell_type": "code",
   "execution_count": 6,
   "id": "6c84d72c",
   "metadata": {},
   "outputs": [
    {
     "data": {
      "text/html": [
       "<div>\n",
       "<style scoped>\n",
       "    .dataframe tbody tr th:only-of-type {\n",
       "        vertical-align: middle;\n",
       "    }\n",
       "\n",
       "    .dataframe tbody tr th {\n",
       "        vertical-align: top;\n",
       "    }\n",
       "\n",
       "    .dataframe thead th {\n",
       "        text-align: right;\n",
       "    }\n",
       "</style>\n",
       "<table border=\"1\" class=\"dataframe\">\n",
       "  <thead>\n",
       "    <tr style=\"text-align: right;\">\n",
       "      <th></th>\n",
       "      <th>Issue_id</th>\n",
       "      <th>Priority</th>\n",
       "      <th>Title</th>\n",
       "      <th>Description</th>\n",
       "      <th>Component</th>\n",
       "      <th>Combined_Text</th>\n",
       "      <th>Topic</th>\n",
       "    </tr>\n",
       "  </thead>\n",
       "  <tbody>\n",
       "    <tr>\n",
       "      <th>59620</th>\n",
       "      <td>171079</td>\n",
       "      <td>P3</td>\n",
       "      <td>[Contributions] enablement state does not upda...</td>\n",
       "      <td>I20070109-1805; ; If I am using a handler with...</td>\n",
       "      <td>UI</td>\n",
       "      <td>[Contributions] enablement state does not upda...</td>\n",
       "      <td>1</td>\n",
       "    </tr>\n",
       "    <tr>\n",
       "      <th>59637</th>\n",
       "      <td>171221</td>\n",
       "      <td>P3</td>\n",
       "      <td>Entry on JAR signing in porting guide</td>\n",
       "      <td>The 3.3 porting guide should have an entry on ...</td>\n",
       "      <td>Runtime</td>\n",
       "      <td>Entry on JAR signing in porting guideThe 3.3 p...</td>\n",
       "      <td>1</td>\n",
       "    </tr>\n",
       "    <tr>\n",
       "      <th>59647</th>\n",
       "      <td>171319</td>\n",
       "      <td>P3</td>\n",
       "      <td>[KeyBindings] IActionDelegate with key binding...</td>\n",
       "      <td>Build ID: M20060921-0945; ; While trying to us...</td>\n",
       "      <td>UI</td>\n",
       "      <td>[KeyBindings] IActionDelegate with key binding...</td>\n",
       "      <td>1</td>\n",
       "    </tr>\n",
       "    <tr>\n",
       "      <th>59652</th>\n",
       "      <td>171361</td>\n",
       "      <td>P3</td>\n",
       "      <td>[ErrorHandling] Platform error dialog not corr...</td>\n",
       "      <td>I20070116-1510 + plug-in export I20070116-1510...</td>\n",
       "      <td>UI</td>\n",
       "      <td>[ErrorHandling] Platform error dialog not corr...</td>\n",
       "      <td>1</td>\n",
       "    </tr>\n",
       "    <tr>\n",
       "      <th>59670</th>\n",
       "      <td>171484</td>\n",
       "      <td>P3</td>\n",
       "      <td>javadoc warning in I20070123-1030</td>\n",
       "      <td>./org.eclipse.swt/Eclipse SWT PI/win32/org/ecl...</td>\n",
       "      <td>SWT</td>\n",
       "      <td>javadoc warning in I20070123-1030./org.eclipse...</td>\n",
       "      <td>1</td>\n",
       "    </tr>\n",
       "    <tr>\n",
       "      <th>...</th>\n",
       "      <td>...</td>\n",
       "      <td>...</td>\n",
       "      <td>...</td>\n",
       "      <td>...</td>\n",
       "      <td>...</td>\n",
       "      <td>...</td>\n",
       "      <td>...</td>\n",
       "    </tr>\n",
       "    <tr>\n",
       "      <th>68038</th>\n",
       "      <td>229158</td>\n",
       "      <td>P3</td>\n",
       "      <td>[Perspectives] perspectiveExtension schema imp...</td>\n",
       "      <td>I noticed that we can improve the perspectiveE...</td>\n",
       "      <td>UI</td>\n",
       "      <td>[Perspectives] perspectiveExtension schema imp...</td>\n",
       "      <td>1</td>\n",
       "    </tr>\n",
       "    <tr>\n",
       "      <th>68043</th>\n",
       "      <td>229182</td>\n",
       "      <td>P3</td>\n",
       "      <td>Wrong product version in eclipse-jee-ganymede-...</td>\n",
       "      <td>I downloaded eclipse-jee-ganymede-M6-win32.zip...</td>\n",
       "      <td>Releng</td>\n",
       "      <td>Wrong product version in eclipse-jee-ganymede-...</td>\n",
       "      <td>1</td>\n",
       "    </tr>\n",
       "    <tr>\n",
       "      <th>68045</th>\n",
       "      <td>229204</td>\n",
       "      <td>P3</td>\n",
       "      <td>build fails when running pde.api tools if sdk ...</td>\n",
       "      <td>Should check that sdk includes plugins and fea...</td>\n",
       "      <td>Releng</td>\n",
       "      <td>build fails when running pde.api tools if sdk ...</td>\n",
       "      <td>1</td>\n",
       "    </tr>\n",
       "    <tr>\n",
       "      <th>68051</th>\n",
       "      <td>229287</td>\n",
       "      <td>P3</td>\n",
       "      <td>[Intro] Doc rewording</td>\n",
       "      <td>eclipse\\plugins\\org.eclipse.platform.doc.isv\\r...</td>\n",
       "      <td>User Assistance</td>\n",
       "      <td>[Intro] Doc rewordingeclipse\\plugins\\org.eclip...</td>\n",
       "      <td>1</td>\n",
       "    </tr>\n",
       "    <tr>\n",
       "      <th>68055</th>\n",
       "      <td>229306</td>\n",
       "      <td>P3</td>\n",
       "      <td>Doc rewording</td>\n",
       "      <td>eclipse\\plugins\\org.eclipse.platform.doc.isv\\r...</td>\n",
       "      <td>Doc</td>\n",
       "      <td>Doc rewordingeclipse\\plugins\\org.eclipse.platf...</td>\n",
       "      <td>1</td>\n",
       "    </tr>\n",
       "  </tbody>\n",
       "</table>\n",
       "<p>470 rows × 7 columns</p>\n",
       "</div>"
      ],
      "text/plain": [
       "       Issue_id Priority                                              Title  \\\n",
       "59620    171079       P3  [Contributions] enablement state does not upda...   \n",
       "59637    171221       P3              Entry on JAR signing in porting guide   \n",
       "59647    171319       P3  [KeyBindings] IActionDelegate with key binding...   \n",
       "59652    171361       P3  [ErrorHandling] Platform error dialog not corr...   \n",
       "59670    171484       P3                  javadoc warning in I20070123-1030   \n",
       "...         ...      ...                                                ...   \n",
       "68038    229158       P3  [Perspectives] perspectiveExtension schema imp...   \n",
       "68043    229182       P3  Wrong product version in eclipse-jee-ganymede-...   \n",
       "68045    229204       P3  build fails when running pde.api tools if sdk ...   \n",
       "68051    229287       P3                              [Intro] Doc rewording   \n",
       "68055    229306       P3                                      Doc rewording   \n",
       "\n",
       "                                             Description        Component  \\\n",
       "59620  I20070109-1805; ; If I am using a handler with...               UI   \n",
       "59637  The 3.3 porting guide should have an entry on ...          Runtime   \n",
       "59647  Build ID: M20060921-0945; ; While trying to us...               UI   \n",
       "59652  I20070116-1510 + plug-in export I20070116-1510...               UI   \n",
       "59670  ./org.eclipse.swt/Eclipse SWT PI/win32/org/ecl...              SWT   \n",
       "...                                                  ...              ...   \n",
       "68038  I noticed that we can improve the perspectiveE...               UI   \n",
       "68043  I downloaded eclipse-jee-ganymede-M6-win32.zip...           Releng   \n",
       "68045  Should check that sdk includes plugins and fea...           Releng   \n",
       "68051  eclipse\\plugins\\org.eclipse.platform.doc.isv\\r...  User Assistance   \n",
       "68055  eclipse\\plugins\\org.eclipse.platform.doc.isv\\r...              Doc   \n",
       "\n",
       "                                           Combined_Text  Topic  \n",
       "59620  [Contributions] enablement state does not upda...      1  \n",
       "59637  Entry on JAR signing in porting guideThe 3.3 p...      1  \n",
       "59647  [KeyBindings] IActionDelegate with key binding...      1  \n",
       "59652  [ErrorHandling] Platform error dialog not corr...      1  \n",
       "59670  javadoc warning in I20070123-1030./org.eclipse...      1  \n",
       "...                                                  ...    ...  \n",
       "68038  [Perspectives] perspectiveExtension schema imp...      1  \n",
       "68043  Wrong product version in eclipse-jee-ganymede-...      1  \n",
       "68045  build fails when running pde.api tools if sdk ...      1  \n",
       "68051  [Intro] Doc rewordingeclipse\\plugins\\org.eclip...      1  \n",
       "68055  Doc rewordingeclipse\\plugins\\org.eclipse.platf...      1  \n",
       "\n",
       "[470 rows x 7 columns]"
      ]
     },
     "execution_count": 6,
     "metadata": {},
     "output_type": "execute_result"
    }
   ],
   "source": [
    "n = len(topic_one_data)\n",
    "split_index = int(.8 * n)\n",
    "train_dataset = topic_one_data.iloc[:split_index]\n",
    "validation_dataset = topic_one_data.drop(train_dataset.index)\n",
    "validation_dataset"
   ]
  },
  {
   "cell_type": "code",
   "execution_count": 7,
   "id": "ce2284ee",
   "metadata": {},
   "outputs": [],
   "source": [
    "topic_one_train_priority = train_dataset['Priority']\n",
    "topic_one_train_data = train_dataset['Combined_Text']\n",
    "topic_one_validation_priority = validation_dataset['Priority']\n",
    "topic_one_validation_data = validation_dataset['Combined_Text']\n",
    "def extract_description(topic_one_train_data):\n",
    "    # Using regular expression to extract text after the first parentheses\n",
    "    description_train = re.sub(r'^\\([^)]+\\)\\s*', '', topic_one_train_data)\n",
    "    return description_train.strip()\n",
    "def extract_description(topic_one_validation_data):\n",
    "    # Using regular expression to extract text after the first parentheses\n",
    "    description_validate = re.sub(r'^\\([^)]+\\)\\s*', '', topic_one_validation_data)\n",
    "    return description_validate.strip()"
   ]
  },
  {
   "cell_type": "code",
   "execution_count": 8,
   "id": "b1e88900",
   "metadata": {},
   "outputs": [
    {
     "name": "stdout",
     "output_type": "stream",
     "text": [
      "(1879,)\n",
      "(470,)\n"
     ]
    }
   ],
   "source": [
    "print(topic_one_train_data.shape)\n",
    "print(topic_one_validation_data.shape)"
   ]
  },
  {
   "cell_type": "code",
   "execution_count": 9,
   "id": "04fb417e",
   "metadata": {
    "scrolled": true
   },
   "outputs": [
    {
     "name": "stderr",
     "output_type": "stream",
     "text": [
      "/home/rpierson/anaconda3/lib/python3.11/site-packages/sklearn/feature_extraction/text.py:525: UserWarning: The parameter 'token_pattern' will not be used since 'tokenizer' is not None'\n",
      "  warnings.warn(\n"
     ]
    }
   ],
   "source": [
    "vectorizer = CountVectorizer(stop_words = 'english', tokenizer = word_tokenize, lowercase = True)\n",
    "topic_one_train_data = vectorizer.fit_transform(topic_one_train_data)\n",
    "topic_one_validation_data = vectorizer.transform(topic_one_validation_data)"
   ]
  },
  {
   "cell_type": "code",
   "execution_count": null,
   "id": "40a3ef22",
   "metadata": {},
   "outputs": [],
   "source": []
  },
  {
   "cell_type": "code",
   "execution_count": 10,
   "id": "0b2755ea",
   "metadata": {},
   "outputs": [],
   "source": [
    "gnb = GaussianNB()\n",
    "y_pred = gnb.fit(topic_one_train_data.toarray(), topic_one_train_priority).predict(topic_one_validation_data.toarray())"
   ]
  },
  {
   "cell_type": "code",
   "execution_count": 20,
   "id": "f45db5d9",
   "metadata": {},
   "outputs": [
    {
     "name": "stdout",
     "output_type": "stream",
     "text": [
      "Number of mislabeled points out of a total 470 points : 394\n"
     ]
    }
   ],
   "source": [
    "print(\"Number of mislabeled points out of a total %d points : %d\"\n",
    "      % (topic_one_validation_data.shape[0], (topic_one_validation_priority == y_pred).sum()))"
   ]
  },
  {
   "cell_type": "code",
   "execution_count": 12,
   "id": "1284df7a",
   "metadata": {},
   "outputs": [],
   "source": [
    "priority_dispersion = topic_one_data.groupby('Priority').count()"
   ]
  },
  {
   "cell_type": "code",
   "execution_count": 13,
   "id": "b08c65ba",
   "metadata": {},
   "outputs": [
    {
     "data": {
      "text/html": [
       "<div>\n",
       "<style scoped>\n",
       "    .dataframe tbody tr th:only-of-type {\n",
       "        vertical-align: middle;\n",
       "    }\n",
       "\n",
       "    .dataframe tbody tr th {\n",
       "        vertical-align: top;\n",
       "    }\n",
       "\n",
       "    .dataframe thead th {\n",
       "        text-align: right;\n",
       "    }\n",
       "</style>\n",
       "<table border=\"1\" class=\"dataframe\">\n",
       "  <thead>\n",
       "    <tr style=\"text-align: right;\">\n",
       "      <th></th>\n",
       "      <th>Issue_id</th>\n",
       "      <th>Title</th>\n",
       "      <th>Description</th>\n",
       "      <th>Component</th>\n",
       "      <th>Combined_Text</th>\n",
       "      <th>Topic</th>\n",
       "    </tr>\n",
       "    <tr>\n",
       "      <th>Priority</th>\n",
       "      <th></th>\n",
       "      <th></th>\n",
       "      <th></th>\n",
       "      <th></th>\n",
       "      <th></th>\n",
       "      <th></th>\n",
       "    </tr>\n",
       "  </thead>\n",
       "  <tbody>\n",
       "    <tr>\n",
       "      <th>P1</th>\n",
       "      <td>66</td>\n",
       "      <td>66</td>\n",
       "      <td>66</td>\n",
       "      <td>66</td>\n",
       "      <td>66</td>\n",
       "      <td>66</td>\n",
       "    </tr>\n",
       "    <tr>\n",
       "      <th>P2</th>\n",
       "      <td>131</td>\n",
       "      <td>131</td>\n",
       "      <td>131</td>\n",
       "      <td>131</td>\n",
       "      <td>131</td>\n",
       "      <td>131</td>\n",
       "    </tr>\n",
       "    <tr>\n",
       "      <th>P3</th>\n",
       "      <td>2053</td>\n",
       "      <td>2053</td>\n",
       "      <td>2053</td>\n",
       "      <td>2053</td>\n",
       "      <td>2053</td>\n",
       "      <td>2053</td>\n",
       "    </tr>\n",
       "    <tr>\n",
       "      <th>P4</th>\n",
       "      <td>52</td>\n",
       "      <td>52</td>\n",
       "      <td>52</td>\n",
       "      <td>52</td>\n",
       "      <td>52</td>\n",
       "      <td>52</td>\n",
       "    </tr>\n",
       "    <tr>\n",
       "      <th>P5</th>\n",
       "      <td>47</td>\n",
       "      <td>47</td>\n",
       "      <td>47</td>\n",
       "      <td>47</td>\n",
       "      <td>47</td>\n",
       "      <td>47</td>\n",
       "    </tr>\n",
       "  </tbody>\n",
       "</table>\n",
       "</div>"
      ],
      "text/plain": [
       "          Issue_id  Title  Description  Component  Combined_Text  Topic\n",
       "Priority                                                               \n",
       "P1              66     66           66         66             66     66\n",
       "P2             131    131          131        131            131    131\n",
       "P3            2053   2053         2053       2053           2053   2053\n",
       "P4              52     52           52         52             52     52\n",
       "P5              47     47           47         47             47     47"
      ]
     },
     "execution_count": 13,
     "metadata": {},
     "output_type": "execute_result"
    }
   ],
   "source": [
    "priority_dispersion"
   ]
  },
  {
   "cell_type": "code",
   "execution_count": 16,
   "id": "5306ff09",
   "metadata": {},
   "outputs": [
    {
     "data": {
      "text/plain": [
       "470"
      ]
     },
     "execution_count": 16,
     "metadata": {},
     "output_type": "execute_result"
    }
   ],
   "source": [
    "validation_dataset.shape[0]"
   ]
  },
  {
   "cell_type": "code",
   "execution_count": 17,
   "id": "d6c3a397",
   "metadata": {},
   "outputs": [
    {
     "data": {
      "text/plain": [
       "1879"
      ]
     },
     "execution_count": 17,
     "metadata": {},
     "output_type": "execute_result"
    }
   ],
   "source": [
    "train_dataset.shape[0]"
   ]
  },
  {
   "cell_type": "code",
   "execution_count": null,
   "id": "c81d1cc3",
   "metadata": {},
   "outputs": [],
   "source": []
  }
 ],
 "metadata": {
  "kernelspec": {
   "display_name": "Python 3 (ipykernel)",
   "language": "python",
   "name": "python3"
  },
  "language_info": {
   "codemirror_mode": {
    "name": "ipython",
    "version": 3
   },
   "file_extension": ".py",
   "mimetype": "text/x-python",
   "name": "python",
   "nbconvert_exporter": "python",
   "pygments_lexer": "ipython3",
   "version": "3.11.5"
  }
 },
 "nbformat": 4,
 "nbformat_minor": 5
}
